{
 "cells": [
  {
   "cell_type": "markdown",
   "metadata": {},
   "source": [
    "# Initial Investigation of the Dataset\n",
    "---\n",
    "## Summary\n",
    "\n",
    "### This notebook aims to answer:\n",
    "- What NaN values need addressed?\n",
    "- How balanced is the Dataset?"
   ]
  },
  {
   "cell_type": "markdown",
   "metadata": {},
   "source": [
    "### SETUP CELL\n",
    "- Import the libraries that are going to be used\n",
    "- Read in the dataset\n",
    "- Validate that the dataset has been read in correctly"
   ]
  },
  {
   "cell_type": "code",
   "execution_count": 1,
   "metadata": {},
   "outputs": [
    {
     "name": "stderr",
     "output_type": "stream",
     "text": [
      "C:\\Users\\grego\\AppData\\Local\\Temp\\ipykernel_9588\\4167609046.py:17: DtypeWarning: Columns (0,1,3,4,5,6,7,8,9,10,11,12,13,14,15,16,17,18,19,20,21,22,23,24,25,26,27,28,29,30,31,32,33,34,35,36,37,38,39,40,41,42,43,44,45,46,47,48,49,50,51,52,53,54,55,56,57,58,59,60,61,62,63,64,65,66,67,68,69,70,71,72,73,74,75,76,77,78) have mixed types. Specify dtype option on import or set low_memory=False.\n",
      "  df = pd.concat([pd.read_csv(f) for f in allFilenames])\n",
      "C:\\Users\\grego\\AppData\\Local\\Temp\\ipykernel_9588\\4167609046.py:17: DtypeWarning: Columns (0,1,3,4,5,6,7,8,9,10,11,12,13,14,15,16,17,18,19,20,21,22,23,24,25,26,27,28,29,30,31,32,33,34,35,36,37,38,39,40,41,42,43,44,45,46,47,48,49,50,51,52,53,54,55,56,57,58,59,60,61,62,63,64,65,66,67,68,69,70,71,72,73,74,75,76,77,78) have mixed types. Specify dtype option on import or set low_memory=False.\n",
      "  df = pd.concat([pd.read_csv(f) for f in allFilenames])\n",
      "C:\\Users\\grego\\AppData\\Local\\Temp\\ipykernel_9588\\4167609046.py:17: DtypeWarning: Columns (0,1,3,4,5,6,7,8,9,10,11,12,13,14,15,16,17,18,19,20,21,22,23,24,25,26,27,28,29,30,31,32,33,34,35,36,37,38,39,40,41,42,43,44,45,46,47,48,49,50,51,52,53,54,55,56,57,58,59,60,61,62,63,64,65,66,67,68,69,70,71,72,73,74,75,76,77,78) have mixed types. Specify dtype option on import or set low_memory=False.\n",
      "  df = pd.concat([pd.read_csv(f) for f in allFilenames])\n"
     ]
    },
    {
     "data": {
      "text/html": [
       "<div>\n",
       "<style scoped>\n",
       "    .dataframe tbody tr th:only-of-type {\n",
       "        vertical-align: middle;\n",
       "    }\n",
       "\n",
       "    .dataframe tbody tr th {\n",
       "        vertical-align: top;\n",
       "    }\n",
       "\n",
       "    .dataframe thead th {\n",
       "        text-align: right;\n",
       "    }\n",
       "</style>\n",
       "<table border=\"1\" class=\"dataframe\">\n",
       "  <thead>\n",
       "    <tr style=\"text-align: right;\">\n",
       "      <th></th>\n",
       "      <th>Dst Port</th>\n",
       "      <th>Protocol</th>\n",
       "      <th>Timestamp</th>\n",
       "      <th>Flow Duration</th>\n",
       "      <th>Tot Fwd Pkts</th>\n",
       "      <th>Tot Bwd Pkts</th>\n",
       "      <th>TotLen Fwd Pkts</th>\n",
       "      <th>TotLen Bwd Pkts</th>\n",
       "      <th>Fwd Pkt Len Max</th>\n",
       "      <th>Fwd Pkt Len Min</th>\n",
       "      <th>...</th>\n",
       "      <th>Active Min</th>\n",
       "      <th>Idle Mean</th>\n",
       "      <th>Idle Std</th>\n",
       "      <th>Idle Max</th>\n",
       "      <th>Idle Min</th>\n",
       "      <th>Label</th>\n",
       "      <th>Flow ID</th>\n",
       "      <th>Src IP</th>\n",
       "      <th>Src Port</th>\n",
       "      <th>Dst IP</th>\n",
       "    </tr>\n",
       "  </thead>\n",
       "  <tbody>\n",
       "    <tr>\n",
       "      <th>0</th>\n",
       "      <td>443</td>\n",
       "      <td>6</td>\n",
       "      <td>02/03/2018 08:47:38</td>\n",
       "      <td>141385</td>\n",
       "      <td>9</td>\n",
       "      <td>7</td>\n",
       "      <td>553</td>\n",
       "      <td>3773.0</td>\n",
       "      <td>202</td>\n",
       "      <td>0</td>\n",
       "      <td>...</td>\n",
       "      <td>0.0</td>\n",
       "      <td>0.0</td>\n",
       "      <td>0.0</td>\n",
       "      <td>0.0</td>\n",
       "      <td>0.0</td>\n",
       "      <td>Benign</td>\n",
       "      <td>NaN</td>\n",
       "      <td>NaN</td>\n",
       "      <td>NaN</td>\n",
       "      <td>NaN</td>\n",
       "    </tr>\n",
       "    <tr>\n",
       "      <th>1</th>\n",
       "      <td>49684</td>\n",
       "      <td>6</td>\n",
       "      <td>02/03/2018 08:47:38</td>\n",
       "      <td>281</td>\n",
       "      <td>2</td>\n",
       "      <td>1</td>\n",
       "      <td>38</td>\n",
       "      <td>0.0</td>\n",
       "      <td>38</td>\n",
       "      <td>0</td>\n",
       "      <td>...</td>\n",
       "      <td>0.0</td>\n",
       "      <td>0.0</td>\n",
       "      <td>0.0</td>\n",
       "      <td>0.0</td>\n",
       "      <td>0.0</td>\n",
       "      <td>Benign</td>\n",
       "      <td>NaN</td>\n",
       "      <td>NaN</td>\n",
       "      <td>NaN</td>\n",
       "      <td>NaN</td>\n",
       "    </tr>\n",
       "    <tr>\n",
       "      <th>2</th>\n",
       "      <td>443</td>\n",
       "      <td>6</td>\n",
       "      <td>02/03/2018 08:47:40</td>\n",
       "      <td>279824</td>\n",
       "      <td>11</td>\n",
       "      <td>15</td>\n",
       "      <td>1086</td>\n",
       "      <td>10527.0</td>\n",
       "      <td>385</td>\n",
       "      <td>0</td>\n",
       "      <td>...</td>\n",
       "      <td>0.0</td>\n",
       "      <td>0.0</td>\n",
       "      <td>0.0</td>\n",
       "      <td>0.0</td>\n",
       "      <td>0.0</td>\n",
       "      <td>Benign</td>\n",
       "      <td>NaN</td>\n",
       "      <td>NaN</td>\n",
       "      <td>NaN</td>\n",
       "      <td>NaN</td>\n",
       "    </tr>\n",
       "    <tr>\n",
       "      <th>3</th>\n",
       "      <td>443</td>\n",
       "      <td>6</td>\n",
       "      <td>02/03/2018 08:47:40</td>\n",
       "      <td>132</td>\n",
       "      <td>2</td>\n",
       "      <td>0</td>\n",
       "      <td>0</td>\n",
       "      <td>0.0</td>\n",
       "      <td>0</td>\n",
       "      <td>0</td>\n",
       "      <td>...</td>\n",
       "      <td>0.0</td>\n",
       "      <td>0.0</td>\n",
       "      <td>0.0</td>\n",
       "      <td>0.0</td>\n",
       "      <td>0.0</td>\n",
       "      <td>Benign</td>\n",
       "      <td>NaN</td>\n",
       "      <td>NaN</td>\n",
       "      <td>NaN</td>\n",
       "      <td>NaN</td>\n",
       "    </tr>\n",
       "    <tr>\n",
       "      <th>4</th>\n",
       "      <td>443</td>\n",
       "      <td>6</td>\n",
       "      <td>02/03/2018 08:47:41</td>\n",
       "      <td>274016</td>\n",
       "      <td>9</td>\n",
       "      <td>13</td>\n",
       "      <td>1285</td>\n",
       "      <td>6141.0</td>\n",
       "      <td>517</td>\n",
       "      <td>0</td>\n",
       "      <td>...</td>\n",
       "      <td>0.0</td>\n",
       "      <td>0.0</td>\n",
       "      <td>0.0</td>\n",
       "      <td>0.0</td>\n",
       "      <td>0.0</td>\n",
       "      <td>Benign</td>\n",
       "      <td>NaN</td>\n",
       "      <td>NaN</td>\n",
       "      <td>NaN</td>\n",
       "      <td>NaN</td>\n",
       "    </tr>\n",
       "  </tbody>\n",
       "</table>\n",
       "<p>5 rows × 84 columns</p>\n",
       "</div>"
      ],
      "text/plain": [
       "  Dst Port Protocol            Timestamp Flow Duration Tot Fwd Pkts  \\\n",
       "0      443        6  02/03/2018 08:47:38        141385            9   \n",
       "1    49684        6  02/03/2018 08:47:38           281            2   \n",
       "2      443        6  02/03/2018 08:47:40        279824           11   \n",
       "3      443        6  02/03/2018 08:47:40           132            2   \n",
       "4      443        6  02/03/2018 08:47:41        274016            9   \n",
       "\n",
       "  Tot Bwd Pkts TotLen Fwd Pkts TotLen Bwd Pkts Fwd Pkt Len Max  \\\n",
       "0            7             553          3773.0             202   \n",
       "1            1              38             0.0              38   \n",
       "2           15            1086         10527.0             385   \n",
       "3            0               0             0.0               0   \n",
       "4           13            1285          6141.0             517   \n",
       "\n",
       "  Fwd Pkt Len Min  ... Active Min Idle Mean Idle Std Idle Max Idle Min  \\\n",
       "0               0  ...        0.0       0.0      0.0      0.0      0.0   \n",
       "1               0  ...        0.0       0.0      0.0      0.0      0.0   \n",
       "2               0  ...        0.0       0.0      0.0      0.0      0.0   \n",
       "3               0  ...        0.0       0.0      0.0      0.0      0.0   \n",
       "4               0  ...        0.0       0.0      0.0      0.0      0.0   \n",
       "\n",
       "    Label Flow ID Src IP Src Port Dst IP  \n",
       "0  Benign     NaN    NaN      NaN    NaN  \n",
       "1  Benign     NaN    NaN      NaN    NaN  \n",
       "2  Benign     NaN    NaN      NaN    NaN  \n",
       "3  Benign     NaN    NaN      NaN    NaN  \n",
       "4  Benign     NaN    NaN      NaN    NaN  \n",
       "\n",
       "[5 rows x 84 columns]"
      ]
     },
     "execution_count": 1,
     "metadata": {},
     "output_type": "execute_result"
    }
   ],
   "source": [
    "#SETUP CELL\n",
    "#Imports\n",
    "import pandas as pd\n",
    "import numpy as np\n",
    "import seaborn as sns\n",
    "import os\n",
    "import glob\n",
    "\n",
    "#working dirr\n",
    "path = 'E:/Workspace/Dataset/'\n",
    "os.chdir(path)\n",
    "\n",
    "#get filenames of the dataset\n",
    "allFilenames = [i for i in glob.glob('*.{}'.format('csv'))]\n",
    "\n",
    "#read the dataset into a panda dataframe\n",
    "df = pd.concat([pd.read_csv(f) for f in allFilenames])\n",
    "\n",
    "#check the dataset has read in correctly\n",
    "df.head()"
   ]
  },
  {
   "cell_type": "markdown",
   "metadata": {},
   "source": [
    "#### Observations 1\n",
    "Flow ID, Src IP, Src Port, and Dst IP appear to be NaN. This is done to mitigate classifiers being biased to specific machines and not the actual patterns of malicious traffic."
   ]
  },
  {
   "cell_type": "markdown",
   "metadata": {},
   "source": [
    "### Investigate NaN\n",
    "As observed, there are missing values in Flow ID, Src IP, Scr Port, and Dst IP. This needs further investigation to determine if this is the case for all entries, or just a select few.\n",
    "\n",
    "This will be achieved by:\n",
    "- Getting the number of entried in the dataset\n",
    "- Getting the number of missing values in the dataset"
   ]
  },
  {
   "cell_type": "code",
   "execution_count": 2,
   "metadata": {},
   "outputs": [
    {
     "name": "stdout",
     "output_type": "stream",
     "text": [
      "<class 'pandas.core.frame.DataFrame'>\n",
      "Int64Index: 16233002 entries, 0 to 613103\n",
      "Data columns (total 84 columns):\n",
      " #   Column             Dtype  \n",
      "---  ------             -----  \n",
      " 0   Dst Port           object \n",
      " 1   Protocol           object \n",
      " 2   Timestamp          object \n",
      " 3   Flow Duration      object \n",
      " 4   Tot Fwd Pkts       object \n",
      " 5   Tot Bwd Pkts       object \n",
      " 6   TotLen Fwd Pkts    object \n",
      " 7   TotLen Bwd Pkts    object \n",
      " 8   Fwd Pkt Len Max    object \n",
      " 9   Fwd Pkt Len Min    object \n",
      " 10  Fwd Pkt Len Mean   object \n",
      " 11  Fwd Pkt Len Std    object \n",
      " 12  Bwd Pkt Len Max    object \n",
      " 13  Bwd Pkt Len Min    object \n",
      " 14  Bwd Pkt Len Mean   object \n",
      " 15  Bwd Pkt Len Std    object \n",
      " 16  Flow Byts/s        object \n",
      " 17  Flow Pkts/s        object \n",
      " 18  Flow IAT Mean      object \n",
      " 19  Flow IAT Std       object \n",
      " 20  Flow IAT Max       object \n",
      " 21  Flow IAT Min       object \n",
      " 22  Fwd IAT Tot        object \n",
      " 23  Fwd IAT Mean       object \n",
      " 24  Fwd IAT Std        object \n",
      " 25  Fwd IAT Max        object \n",
      " 26  Fwd IAT Min        object \n",
      " 27  Bwd IAT Tot        object \n",
      " 28  Bwd IAT Mean       object \n",
      " 29  Bwd IAT Std        object \n",
      " 30  Bwd IAT Max        object \n",
      " 31  Bwd IAT Min        object \n",
      " 32  Fwd PSH Flags      object \n",
      " 33  Bwd PSH Flags      object \n",
      " 34  Fwd URG Flags      object \n",
      " 35  Bwd URG Flags      object \n",
      " 36  Fwd Header Len     object \n",
      " 37  Bwd Header Len     object \n",
      " 38  Fwd Pkts/s         object \n",
      " 39  Bwd Pkts/s         object \n",
      " 40  Pkt Len Min        object \n",
      " 41  Pkt Len Max        object \n",
      " 42  Pkt Len Mean       object \n",
      " 43  Pkt Len Std        object \n",
      " 44  Pkt Len Var        object \n",
      " 45  FIN Flag Cnt       object \n",
      " 46  SYN Flag Cnt       object \n",
      " 47  RST Flag Cnt       object \n",
      " 48  PSH Flag Cnt       object \n",
      " 49  ACK Flag Cnt       object \n",
      " 50  URG Flag Cnt       object \n",
      " 51  CWE Flag Count     object \n",
      " 52  ECE Flag Cnt       object \n",
      " 53  Down/Up Ratio      object \n",
      " 54  Pkt Size Avg       object \n",
      " 55  Fwd Seg Size Avg   object \n",
      " 56  Bwd Seg Size Avg   object \n",
      " 57  Fwd Byts/b Avg     object \n",
      " 58  Fwd Pkts/b Avg     object \n",
      " 59  Fwd Blk Rate Avg   object \n",
      " 60  Bwd Byts/b Avg     object \n",
      " 61  Bwd Pkts/b Avg     object \n",
      " 62  Bwd Blk Rate Avg   object \n",
      " 63  Subflow Fwd Pkts   object \n",
      " 64  Subflow Fwd Byts   object \n",
      " 65  Subflow Bwd Pkts   object \n",
      " 66  Subflow Bwd Byts   object \n",
      " 67  Init Fwd Win Byts  object \n",
      " 68  Init Bwd Win Byts  object \n",
      " 69  Fwd Act Data Pkts  object \n",
      " 70  Fwd Seg Size Min   object \n",
      " 71  Active Mean        object \n",
      " 72  Active Std         object \n",
      " 73  Active Max         object \n",
      " 74  Active Min         object \n",
      " 75  Idle Mean          object \n",
      " 76  Idle Std           object \n",
      " 77  Idle Max           object \n",
      " 78  Idle Min           object \n",
      " 79  Label              object \n",
      " 80  Flow ID            object \n",
      " 81  Src IP             object \n",
      " 82  Src Port           float64\n",
      " 83  Dst IP             object \n",
      "dtypes: float64(1), object(83)\n",
      "memory usage: 10.3+ GB\n"
     ]
    },
    {
     "data": {
      "text/plain": [
       "Dst Port               0\n",
       "Protocol               0\n",
       "Timestamp              0\n",
       "Flow Duration          0\n",
       "Tot Fwd Pkts           0\n",
       "                  ...   \n",
       "Label                  0\n",
       "Flow ID          8284254\n",
       "Src IP           8284254\n",
       "Src Port         8284254\n",
       "Dst IP           8284254\n",
       "Length: 84, dtype: int64"
      ]
     },
     "execution_count": 2,
     "metadata": {},
     "output_type": "execute_result"
    }
   ],
   "source": [
    "#General info on the dataset\n",
    "df.info()\n",
    "\n",
    "#number of missing data points per collumn\n",
    "missingCount = df.isnull().sum()\n",
    "\n",
    "#output\n",
    "missingCount[0:84]"
   ]
  },
  {
   "cell_type": "markdown",
   "metadata": {},
   "source": [
    "#### Observations 2\n",
    "Around half of the entries have missing values in Flow ID, Src IP, Src Port, and Dst IP.\n",
    "The two options are to drop every entry with a missing occurence, or to drop the specified columns.\n",
    "\n",
    "The solution is to drop the columns rather than halving the size of the dataset, and as discussed in [Observations 1](#observations-1), these variables would create a classifier that is biased to specific machines."
   ]
  },
  {
   "cell_type": "markdown",
   "metadata": {},
   "source": [
    "### Dropping NaN\n",
    "- Drop the specified columns\n",
    "- Double check for missing values"
   ]
  },
  {
   "cell_type": "code",
   "execution_count": 3,
   "metadata": {},
   "outputs": [
    {
     "name": "stdout",
     "output_type": "stream",
     "text": [
      "0.004598733493656935\n"
     ]
    }
   ],
   "source": [
    "#drop src ip, dst ip, src port, flow id\n",
    "df = df.drop(['Flow ID', 'Src IP', 'Src Port', 'Dst IP'], axis=1)\n",
    "\n",
    "#number of missing data points per collumn\n",
    "missingCountDropped = df.isnull().sum()\n",
    "\n",
    "#Double check the percentage of missing data after drop\n",
    "totalCells = np.product(df.shape)\n",
    "totalMissing = missingCountDropped.sum()\n",
    "\n",
    "percentMissing = (totalMissing/totalCells)*100\n",
    "print(percentMissing)"
   ]
  },
  {
   "cell_type": "markdown",
   "metadata": {},
   "source": [
    "#### Observations 3\n",
    "The percentage of missing data is now negligible, so it is fine to just drop the entries with missing values."
   ]
  },
  {
   "cell_type": "code",
   "execution_count": 4,
   "metadata": {},
   "outputs": [],
   "source": [
    "#Drop entries with missing values\n",
    "df = df.dropna()"
   ]
  },
  {
   "cell_type": "markdown",
   "metadata": {},
   "source": [
    "### Investigating the Class Balance\n",
    "This section aims to:\n",
    "- Get the number of occurences of each class\n",
    "- Visualise the results"
   ]
  },
  {
   "cell_type": "code",
   "execution_count": 5,
   "metadata": {},
   "outputs": [
    {
     "name": "stdout",
     "output_type": "stream",
     "text": [
      "Benign                      13425831\n",
      "DDOS attack-HOIC              686012\n",
      "DDoS attacks-LOIC-HTTP        576191\n",
      "DoS attacks-Hulk              461912\n",
      "Bot                           286191\n",
      "FTP-BruteForce                193354\n",
      "SSH-Bruteforce                187589\n",
      "Infilteration                 161096\n",
      "DoS attacks-SlowHTTPTest      139890\n",
      "DoS attacks-GoldenEye          41508\n",
      "DoS attacks-Slowloris          10990\n",
      "DDOS attack-LOIC-UDP            1730\n",
      "Brute Force -Web                 611\n",
      "Brute Force -XSS                 230\n",
      "SQL Injection                     87\n",
      "Label                             59\n",
      "Name: Label, dtype: int64\n"
     ]
    }
   ],
   "source": [
    "#Get class distribution\n",
    "print(df['Label'].value_counts())"
   ]
  },
  {
   "cell_type": "markdown",
   "metadata": {},
   "source": [
    "#### Observations 4\n",
    "There appears to be occurences of the label 'Label', this is believed to be a mistake so entries with the lable 'Label' will be dropped.\n",
    "\n",
    "Benign traffic is the most predominant class unsuprisingly, it should be noted that SQL Injection, XSS, and Web are very underrepresented, this will result in poor classification of the underrepresented classes, this most likely wouldn't show in the overall accuracy of the model. The imbalance needs to be addressed."
   ]
  },
  {
   "cell_type": "code",
   "execution_count": 6,
   "metadata": {},
   "outputs": [
    {
     "data": {
      "text/plain": [
       "<AxesSubplot:xlabel='count', ylabel='Label'>"
      ]
     },
     "execution_count": 6,
     "metadata": {},
     "output_type": "execute_result"
    },
    {
     "data": {
      "image/png": "[encoded data removed]",
      "text/plain": [
       "<Figure size 432x288 with 1 Axes>"
      ]
     },
     "metadata": {
      "needs_background": "light"
     },
     "output_type": "display_data"
    }
   ],
   "source": [
    "#Remove the instances with the lablel 'Label'\n",
    "df = df[df.Label != 'Label']\n",
    "\n",
    "#plot and visualise the class distribution\n",
    "sns.countplot(y='Label', data=df, order = df['Label'].value_counts().index)"
   ]
  },
  {
   "cell_type": "markdown",
   "metadata": {},
   "source": [
    "### Export the CSV\n",
    "The dataset has been processed and can now be saved, this is what will be used for training the classifier models."
   ]
  },
  {
   "cell_type": "code",
   "execution_count": 7,
   "metadata": {},
   "outputs": [],
   "source": [
    "#Export to csv now that it is cleaned\n",
    "df.to_csv('E:/Workspace/Dataset/combined.csv', index = False)"
   ]
  },
  {
   "cell_type": "markdown",
   "metadata": {},
   "source": [
    "### Future Work\n",
    "The next step is to address the class imbalances, there are a few methods that can be implemented, Synthetic Minority Oversampling Technique (SMOTE), Undersampling, calculating the class weight. Each of these methods will be implemented and the performance metrics will be compared."
   ]
  }
 ],
 "metadata": {
  "interpreter": {
   "hash": "337f1a600d345c50cd007a2461b073851b5ec4b77bc6c65adb33d085b42175ad"
  },
  "kernelspec": {
   "display_name": "Python 3.9.5 64-bit ('base': conda)",
   "language": "python",
   "name": "python3"
  },
  "language_info": {
   "codemirror_mode": {
    "name": "ipython",
    "version": 3
   },
   "file_extension": ".py",
   "mimetype": "text/x-python",
   "name": "python",
   "nbconvert_exporter": "python",
   "pygments_lexer": "ipython3",
   "version": "3.10.2"
  },
  "orig_nbformat": 4
 },
 "nbformat": 4,
 "nbformat_minor": 2
}
